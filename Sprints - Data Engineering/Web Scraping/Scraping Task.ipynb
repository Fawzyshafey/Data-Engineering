{
 "cells": [
  {
   "cell_type": "code",
   "execution_count": null,
   "id": "6b6458a9",
   "metadata": {},
   "outputs": [],
   "source": [
    "import requests\n",
    "from bs4 import BeautifulSoup"
   ]
  },
  {
   "cell_type": "code",
   "execution_count": null,
   "id": "521a5582",
   "metadata": {},
   "outputs": [],
   "source": [
    "r = requests.get(\"https://kora.livekoora.info/\")"
   ]
  },
  {
   "cell_type": "code",
   "execution_count": null,
   "id": "c69181c9",
   "metadata": {},
   "outputs": [],
   "source": [
    "soup = BeautifulSoup(r.content, \"html.parser\")"
   ]
  },
  {
   "cell_type": "code",
   "execution_count": null,
   "id": "2508052c",
   "metadata": {},
   "outputs": [],
   "source": [
    "matches = soup.find_all(class_=\"match-container\")\n",
    "print(matches)"
   ]
  },
  {
   "cell_type": "code",
   "execution_count": null,
   "id": "4aa88cd7",
   "metadata": {},
   "outputs": [],
   "source": [
    "matches_Info = []\n",
    "for match in matches: \n",
    "    right_Team = match.find(class_=\"right-team\").text\n",
    "    left_Team = match.find(class_=\"left-team\").text\n",
    "    match_Result = match.find(class_=\"match-center\").text\n",
    "    matches_Info.append({\"المباراة\":right_Team+\" Vs \"+left_Team, \"النتيجة\": match_Result})\n",
    "print(matches_Info)\n",
    "\n",
    "    #print(\"\")\n",
    "    #print(\"* * * * * \"+right_Team+\" Vs \"+left_Team+\" * * * * *\")\n",
    "    #print(\"Live Result : \"+match_Result)\n",
    "    #print(\"\")    "
   ]
  },
  {
   "cell_type": "code",
   "execution_count": null,
   "id": "20c6738d",
   "metadata": {},
   "outputs": [],
   "source": []
  },
  {
   "cell_type": "code",
   "execution_count": null,
   "id": "d1fd7f8a",
   "metadata": {},
   "outputs": [],
   "source": []
  }
 ],
 "metadata": {
  "kernelspec": {
   "display_name": "Python 3 (ipykernel)",
   "language": "python",
   "name": "python3"
  },
  "language_info": {
   "codemirror_mode": {
    "name": "ipython",
    "version": 3
   },
   "file_extension": ".py",
   "mimetype": "text/x-python",
   "name": "python",
   "nbconvert_exporter": "python",
   "pygments_lexer": "ipython3",
   "version": "3.11.5"
  }
 },
 "nbformat": 4,
 "nbformat_minor": 5
}
